{
 "cells": [
  {
   "cell_type": "code",
   "execution_count": 1,
   "id": "cb054b68",
   "metadata": {
    "_cell_guid": "b1076dfc-b9ad-4769-8c92-a6c4dae69d19",
    "_uuid": "8f2839f25d086af736a60e9eeb907d3b93b6e0e5",
    "execution": {
     "iopub.execute_input": "2024-02-13T14:55:34.945473Z",
     "iopub.status.busy": "2024-02-13T14:55:34.945067Z",
     "iopub.status.idle": "2024-02-13T14:55:37.188590Z",
     "shell.execute_reply": "2024-02-13T14:55:37.187725Z"
    },
    "papermill": {
     "duration": 2.256257,
     "end_time": "2024-02-13T14:55:37.191186",
     "exception": false,
     "start_time": "2024-02-13T14:55:34.934929",
     "status": "completed"
    },
    "tags": []
   },
   "outputs": [],
   "source": [
    "import numpy as np\n",
    "import pandas as pd\n",
    "import matplotlib.pyplot as plt\n",
    "import seaborn as sns\n",
    "import warnings\n",
    "warnings.filterwarnings('ignore')\n"
   ]
  },
  {
   "cell_type": "code",
   "execution_count": 2,
   "id": "69ea48ee",
   "metadata": {
    "execution": {
     "iopub.execute_input": "2024-02-13T14:55:37.211267Z",
     "iopub.status.busy": "2024-02-13T14:55:37.210822Z",
     "iopub.status.idle": "2024-02-13T14:55:37.261943Z",
     "shell.execute_reply": "2024-02-13T14:55:37.260768Z"
    },
    "papermill": {
     "duration": 0.063763,
     "end_time": "2024-02-13T14:55:37.264298",
     "exception": false,
     "start_time": "2024-02-13T14:55:37.200535",
     "status": "completed"
    },
    "tags": []
   },
   "outputs": [],
   "source": [
    "df=pd.read_csv('/kaggle/input/chocolate-ratings/chocolate.csv')"
   ]
  },
  {
   "cell_type": "code",
   "execution_count": 3,
   "id": "fe558f6f",
   "metadata": {
    "execution": {
     "iopub.execute_input": "2024-02-13T14:55:37.284311Z",
     "iopub.status.busy": "2024-02-13T14:55:37.284011Z",
     "iopub.status.idle": "2024-02-13T14:55:37.305237Z",
     "shell.execute_reply": "2024-02-13T14:55:37.304378Z"
    },
    "papermill": {
     "duration": 0.033202,
     "end_time": "2024-02-13T14:55:37.307473",
     "exception": false,
     "start_time": "2024-02-13T14:55:37.274271",
     "status": "completed"
    },
    "tags": []
   },
   "outputs": [
    {
     "data": {
      "text/html": [
       "<div>\n",
       "<style scoped>\n",
       "    .dataframe tbody tr th:only-of-type {\n",
       "        vertical-align: middle;\n",
       "    }\n",
       "\n",
       "    .dataframe tbody tr th {\n",
       "        vertical-align: top;\n",
       "    }\n",
       "\n",
       "    .dataframe thead th {\n",
       "        text-align: right;\n",
       "    }\n",
       "</style>\n",
       "<table border=\"1\" class=\"dataframe\">\n",
       "  <thead>\n",
       "    <tr style=\"text-align: right;\">\n",
       "      <th></th>\n",
       "      <th>ref</th>\n",
       "      <th>company_manufacturer</th>\n",
       "      <th>company_location</th>\n",
       "      <th>review_date</th>\n",
       "      <th>country_of_bean_origin</th>\n",
       "      <th>specific_bean_origin_or_bar_name</th>\n",
       "      <th>cocoa_percent</th>\n",
       "      <th>ingredients</th>\n",
       "      <th>most_memorable_characteristics</th>\n",
       "      <th>rating</th>\n",
       "    </tr>\n",
       "  </thead>\n",
       "  <tbody>\n",
       "    <tr>\n",
       "      <th>0</th>\n",
       "      <td>2454</td>\n",
       "      <td>5150</td>\n",
       "      <td>U.S.A.</td>\n",
       "      <td>2019</td>\n",
       "      <td>Tanzania</td>\n",
       "      <td>Kokoa Kamili, batch 1</td>\n",
       "      <td>76%</td>\n",
       "      <td>3- B,S,C</td>\n",
       "      <td>rich cocoa, fatty, bready</td>\n",
       "      <td>3.25</td>\n",
       "    </tr>\n",
       "    <tr>\n",
       "      <th>1</th>\n",
       "      <td>2458</td>\n",
       "      <td>5150</td>\n",
       "      <td>U.S.A.</td>\n",
       "      <td>2019</td>\n",
       "      <td>Dominican Republic</td>\n",
       "      <td>Zorzal, batch 1</td>\n",
       "      <td>76%</td>\n",
       "      <td>3- B,S,C</td>\n",
       "      <td>cocoa, vegetal, savory</td>\n",
       "      <td>3.50</td>\n",
       "    </tr>\n",
       "    <tr>\n",
       "      <th>2</th>\n",
       "      <td>2454</td>\n",
       "      <td>5150</td>\n",
       "      <td>U.S.A.</td>\n",
       "      <td>2019</td>\n",
       "      <td>Madagascar</td>\n",
       "      <td>Bejofo Estate, batch 1</td>\n",
       "      <td>76%</td>\n",
       "      <td>3- B,S,C</td>\n",
       "      <td>cocoa, blackberry, full body</td>\n",
       "      <td>3.75</td>\n",
       "    </tr>\n",
       "    <tr>\n",
       "      <th>3</th>\n",
       "      <td>2542</td>\n",
       "      <td>5150</td>\n",
       "      <td>U.S.A.</td>\n",
       "      <td>2021</td>\n",
       "      <td>Fiji</td>\n",
       "      <td>Matasawalevu, batch 1</td>\n",
       "      <td>68%</td>\n",
       "      <td>3- B,S,C</td>\n",
       "      <td>chewy, off, rubbery</td>\n",
       "      <td>3.00</td>\n",
       "    </tr>\n",
       "    <tr>\n",
       "      <th>4</th>\n",
       "      <td>2546</td>\n",
       "      <td>5150</td>\n",
       "      <td>U.S.A.</td>\n",
       "      <td>2021</td>\n",
       "      <td>Venezuela</td>\n",
       "      <td>Sur del Lago, batch 1</td>\n",
       "      <td>72%</td>\n",
       "      <td>3- B,S,C</td>\n",
       "      <td>fatty, earthy, moss, nutty,chalky</td>\n",
       "      <td>3.00</td>\n",
       "    </tr>\n",
       "  </tbody>\n",
       "</table>\n",
       "</div>"
      ],
      "text/plain": [
       "    ref company_manufacturer company_location  review_date  \\\n",
       "0  2454                 5150           U.S.A.         2019   \n",
       "1  2458                 5150           U.S.A.         2019   \n",
       "2  2454                 5150           U.S.A.         2019   \n",
       "3  2542                 5150           U.S.A.         2021   \n",
       "4  2546                 5150           U.S.A.         2021   \n",
       "\n",
       "  country_of_bean_origin specific_bean_origin_or_bar_name cocoa_percent  \\\n",
       "0               Tanzania            Kokoa Kamili, batch 1           76%   \n",
       "1     Dominican Republic                  Zorzal, batch 1           76%   \n",
       "2             Madagascar           Bejofo Estate, batch 1           76%   \n",
       "3                   Fiji            Matasawalevu, batch 1           68%   \n",
       "4              Venezuela            Sur del Lago, batch 1           72%   \n",
       "\n",
       "  ingredients     most_memorable_characteristics  rating  \n",
       "0    3- B,S,C          rich cocoa, fatty, bready    3.25  \n",
       "1    3- B,S,C             cocoa, vegetal, savory    3.50  \n",
       "2    3- B,S,C       cocoa, blackberry, full body    3.75  \n",
       "3    3- B,S,C                chewy, off, rubbery    3.00  \n",
       "4    3- B,S,C  fatty, earthy, moss, nutty,chalky    3.00  "
      ]
     },
     "execution_count": 3,
     "metadata": {},
     "output_type": "execute_result"
    }
   ],
   "source": [
    "df.head()"
   ]
  },
  {
   "cell_type": "code",
   "execution_count": 4,
   "id": "b8117dec",
   "metadata": {
    "execution": {
     "iopub.execute_input": "2024-02-13T14:55:37.326013Z",
     "iopub.status.busy": "2024-02-13T14:55:37.325700Z",
     "iopub.status.idle": "2024-02-13T14:55:37.355214Z",
     "shell.execute_reply": "2024-02-13T14:55:37.354216Z"
    },
    "papermill": {
     "duration": 0.041298,
     "end_time": "2024-02-13T14:55:37.357756",
     "exception": false,
     "start_time": "2024-02-13T14:55:37.316458",
     "status": "completed"
    },
    "tags": []
   },
   "outputs": [
    {
     "name": "stdout",
     "output_type": "stream",
     "text": [
      "<class 'pandas.core.frame.DataFrame'>\n",
      "RangeIndex: 2530 entries, 0 to 2529\n",
      "Data columns (total 10 columns):\n",
      " #   Column                            Non-Null Count  Dtype  \n",
      "---  ------                            --------------  -----  \n",
      " 0   ref                               2530 non-null   int64  \n",
      " 1   company_manufacturer              2530 non-null   object \n",
      " 2   company_location                  2530 non-null   object \n",
      " 3   review_date                       2530 non-null   int64  \n",
      " 4   country_of_bean_origin            2530 non-null   object \n",
      " 5   specific_bean_origin_or_bar_name  2530 non-null   object \n",
      " 6   cocoa_percent                     2530 non-null   object \n",
      " 7   ingredients                       2443 non-null   object \n",
      " 8   most_memorable_characteristics    2530 non-null   object \n",
      " 9   rating                            2530 non-null   float64\n",
      "dtypes: float64(1), int64(2), object(7)\n",
      "memory usage: 197.8+ KB\n"
     ]
    }
   ],
   "source": [
    "df.info()"
   ]
  },
  {
   "cell_type": "markdown",
   "id": "21b98785",
   "metadata": {
    "papermill": {
     "duration": 0.010131,
     "end_time": "2024-02-13T14:55:37.377591",
     "exception": false,
     "start_time": "2024-02-13T14:55:37.367460",
     "status": "completed"
    },
    "tags": []
   },
   "source": [
    "## Data preprocessing"
   ]
  },
  {
   "cell_type": "code",
   "execution_count": 5,
   "id": "422ac335",
   "metadata": {
    "execution": {
     "iopub.execute_input": "2024-02-13T14:55:37.396424Z",
     "iopub.status.busy": "2024-02-13T14:55:37.396070Z",
     "iopub.status.idle": "2024-02-13T14:55:37.404253Z",
     "shell.execute_reply": "2024-02-13T14:55:37.403301Z"
    },
    "papermill": {
     "duration": 0.020368,
     "end_time": "2024-02-13T14:55:37.406417",
     "exception": false,
     "start_time": "2024-02-13T14:55:37.386049",
     "status": "completed"
    },
    "tags": []
   },
   "outputs": [],
   "source": [
    "df['cocoa_percent']=df['cocoa_percent'].str.replace('%','').astype(float)"
   ]
  },
  {
   "cell_type": "code",
   "execution_count": 6,
   "id": "6934721c",
   "metadata": {
    "execution": {
     "iopub.execute_input": "2024-02-13T14:55:37.426010Z",
     "iopub.status.busy": "2024-02-13T14:55:37.425745Z",
     "iopub.status.idle": "2024-02-13T14:55:37.431248Z",
     "shell.execute_reply": "2024-02-13T14:55:37.430410Z"
    },
    "papermill": {
     "duration": 0.018355,
     "end_time": "2024-02-13T14:55:37.433628",
     "exception": false,
     "start_time": "2024-02-13T14:55:37.415273",
     "status": "completed"
    },
    "tags": []
   },
   "outputs": [],
   "source": [
    "df['ingredients']=df['ingredients'].dropna()"
   ]
  },
  {
   "cell_type": "code",
   "execution_count": 7,
   "id": "6aec409e",
   "metadata": {
    "execution": {
     "iopub.execute_input": "2024-02-13T14:55:37.453278Z",
     "iopub.status.busy": "2024-02-13T14:55:37.452967Z",
     "iopub.status.idle": "2024-02-13T14:55:37.464527Z",
     "shell.execute_reply": "2024-02-13T14:55:37.463584Z"
    },
    "papermill": {
     "duration": 0.023431,
     "end_time": "2024-02-13T14:55:37.466632",
     "exception": false,
     "start_time": "2024-02-13T14:55:37.443201",
     "status": "completed"
    },
    "tags": []
   },
   "outputs": [],
   "source": [
    "def extract_number(value):\n",
    "    if pd.isna(value):\n",
    "        return None\n",
    "    number_part = value.split('-')[0].split('- ')[0]\n",
    "    number = int(number_part)\n",
    "    return number\n",
    "\n",
    "df['ingredientsNum'] = df['ingredients'].apply(extract_number)"
   ]
  },
  {
   "cell_type": "code",
   "execution_count": 8,
   "id": "3f8e96ce",
   "metadata": {
    "execution": {
     "iopub.execute_input": "2024-02-13T14:55:37.485575Z",
     "iopub.status.busy": "2024-02-13T14:55:37.485252Z",
     "iopub.status.idle": "2024-02-13T14:55:37.502287Z",
     "shell.execute_reply": "2024-02-13T14:55:37.501374Z"
    },
    "papermill": {
     "duration": 0.029446,
     "end_time": "2024-02-13T14:55:37.505040",
     "exception": false,
     "start_time": "2024-02-13T14:55:37.475594",
     "status": "completed"
    },
    "tags": []
   },
   "outputs": [
    {
     "data": {
      "text/html": [
       "<div>\n",
       "<style scoped>\n",
       "    .dataframe tbody tr th:only-of-type {\n",
       "        vertical-align: middle;\n",
       "    }\n",
       "\n",
       "    .dataframe tbody tr th {\n",
       "        vertical-align: top;\n",
       "    }\n",
       "\n",
       "    .dataframe thead th {\n",
       "        text-align: right;\n",
       "    }\n",
       "</style>\n",
       "<table border=\"1\" class=\"dataframe\">\n",
       "  <thead>\n",
       "    <tr style=\"text-align: right;\">\n",
       "      <th></th>\n",
       "      <th>ref</th>\n",
       "      <th>company_manufacturer</th>\n",
       "      <th>company_location</th>\n",
       "      <th>review_date</th>\n",
       "      <th>country_of_bean_origin</th>\n",
       "      <th>specific_bean_origin_or_bar_name</th>\n",
       "      <th>cocoa_percent</th>\n",
       "      <th>ingredients</th>\n",
       "      <th>most_memorable_characteristics</th>\n",
       "      <th>rating</th>\n",
       "      <th>ingredientsNum</th>\n",
       "    </tr>\n",
       "  </thead>\n",
       "  <tbody>\n",
       "    <tr>\n",
       "      <th>0</th>\n",
       "      <td>2454</td>\n",
       "      <td>5150</td>\n",
       "      <td>U.S.A.</td>\n",
       "      <td>2019</td>\n",
       "      <td>Tanzania</td>\n",
       "      <td>Kokoa Kamili, batch 1</td>\n",
       "      <td>76.0</td>\n",
       "      <td>3- B,S,C</td>\n",
       "      <td>rich cocoa, fatty, bready</td>\n",
       "      <td>3.25</td>\n",
       "      <td>3.0</td>\n",
       "    </tr>\n",
       "    <tr>\n",
       "      <th>1</th>\n",
       "      <td>2458</td>\n",
       "      <td>5150</td>\n",
       "      <td>U.S.A.</td>\n",
       "      <td>2019</td>\n",
       "      <td>Dominican Republic</td>\n",
       "      <td>Zorzal, batch 1</td>\n",
       "      <td>76.0</td>\n",
       "      <td>3- B,S,C</td>\n",
       "      <td>cocoa, vegetal, savory</td>\n",
       "      <td>3.50</td>\n",
       "      <td>3.0</td>\n",
       "    </tr>\n",
       "    <tr>\n",
       "      <th>2</th>\n",
       "      <td>2454</td>\n",
       "      <td>5150</td>\n",
       "      <td>U.S.A.</td>\n",
       "      <td>2019</td>\n",
       "      <td>Madagascar</td>\n",
       "      <td>Bejofo Estate, batch 1</td>\n",
       "      <td>76.0</td>\n",
       "      <td>3- B,S,C</td>\n",
       "      <td>cocoa, blackberry, full body</td>\n",
       "      <td>3.75</td>\n",
       "      <td>3.0</td>\n",
       "    </tr>\n",
       "    <tr>\n",
       "      <th>3</th>\n",
       "      <td>2542</td>\n",
       "      <td>5150</td>\n",
       "      <td>U.S.A.</td>\n",
       "      <td>2021</td>\n",
       "      <td>Fiji</td>\n",
       "      <td>Matasawalevu, batch 1</td>\n",
       "      <td>68.0</td>\n",
       "      <td>3- B,S,C</td>\n",
       "      <td>chewy, off, rubbery</td>\n",
       "      <td>3.00</td>\n",
       "      <td>3.0</td>\n",
       "    </tr>\n",
       "    <tr>\n",
       "      <th>4</th>\n",
       "      <td>2546</td>\n",
       "      <td>5150</td>\n",
       "      <td>U.S.A.</td>\n",
       "      <td>2021</td>\n",
       "      <td>Venezuela</td>\n",
       "      <td>Sur del Lago, batch 1</td>\n",
       "      <td>72.0</td>\n",
       "      <td>3- B,S,C</td>\n",
       "      <td>fatty, earthy, moss, nutty,chalky</td>\n",
       "      <td>3.00</td>\n",
       "      <td>3.0</td>\n",
       "    </tr>\n",
       "  </tbody>\n",
       "</table>\n",
       "</div>"
      ],
      "text/plain": [
       "    ref company_manufacturer company_location  review_date  \\\n",
       "0  2454                 5150           U.S.A.         2019   \n",
       "1  2458                 5150           U.S.A.         2019   \n",
       "2  2454                 5150           U.S.A.         2019   \n",
       "3  2542                 5150           U.S.A.         2021   \n",
       "4  2546                 5150           U.S.A.         2021   \n",
       "\n",
       "  country_of_bean_origin specific_bean_origin_or_bar_name  cocoa_percent  \\\n",
       "0               Tanzania            Kokoa Kamili, batch 1           76.0   \n",
       "1     Dominican Republic                  Zorzal, batch 1           76.0   \n",
       "2             Madagascar           Bejofo Estate, batch 1           76.0   \n",
       "3                   Fiji            Matasawalevu, batch 1           68.0   \n",
       "4              Venezuela            Sur del Lago, batch 1           72.0   \n",
       "\n",
       "  ingredients     most_memorable_characteristics  rating  ingredientsNum  \n",
       "0    3- B,S,C          rich cocoa, fatty, bready    3.25             3.0  \n",
       "1    3- B,S,C             cocoa, vegetal, savory    3.50             3.0  \n",
       "2    3- B,S,C       cocoa, blackberry, full body    3.75             3.0  \n",
       "3    3- B,S,C                chewy, off, rubbery    3.00             3.0  \n",
       "4    3- B,S,C  fatty, earthy, moss, nutty,chalky    3.00             3.0  "
      ]
     },
     "execution_count": 8,
     "metadata": {},
     "output_type": "execute_result"
    }
   ],
   "source": [
    "df.head()"
   ]
  },
  {
   "cell_type": "code",
   "execution_count": 9,
   "id": "13ba3c3c",
   "metadata": {
    "execution": {
     "iopub.execute_input": "2024-02-13T14:55:37.524101Z",
     "iopub.status.busy": "2024-02-13T14:55:37.523835Z",
     "iopub.status.idle": "2024-02-13T14:55:37.543038Z",
     "shell.execute_reply": "2024-02-13T14:55:37.542283Z"
    },
    "papermill": {
     "duration": 0.030872,
     "end_time": "2024-02-13T14:55:37.544985",
     "exception": false,
     "start_time": "2024-02-13T14:55:37.514113",
     "status": "completed"
    },
    "tags": []
   },
   "outputs": [],
   "source": [
    "df['ingredients']=df['ingredients'].str.replace('6-','')\n",
    "df['ingredients']=df['ingredients'].str.replace('3- ','')\n",
    "df['ingredients']=df['ingredients'].str.replace('4- ','')\n",
    "df['ingredients']=df['ingredients'].str.replace('2- ','')\n",
    "df['ingredients']=df['ingredients'].str.replace('5- ','')\n",
    "df['ingredients']=df['ingredients'].str.replace('4- ','')\n",
    "df['ingredients']=df['ingredients'].str.replace('5-','')\n",
    "df['ingredients']=df['ingredients'].str.replace('1- ','')"
   ]
  },
  {
   "cell_type": "code",
   "execution_count": 10,
   "id": "0b3c694c",
   "metadata": {
    "execution": {
     "iopub.execute_input": "2024-02-13T14:55:37.563099Z",
     "iopub.status.busy": "2024-02-13T14:55:37.562851Z",
     "iopub.status.idle": "2024-02-13T14:55:37.568538Z",
     "shell.execute_reply": "2024-02-13T14:55:37.567701Z"
    },
    "papermill": {
     "duration": 0.016721,
     "end_time": "2024-02-13T14:55:37.570572",
     "exception": false,
     "start_time": "2024-02-13T14:55:37.553851",
     "status": "completed"
    },
    "tags": []
   },
   "outputs": [
    {
     "data": {
      "text/plain": [
       "array(['B,S,C', 'B,S,C,L', 'B,S', 'B,S,C,V', 'B,S,C,V,L', 'B,S,C,V,L,Sa',\n",
       "       'B,S,C,V,Sa', nan, 'B,S,V,L', 'B,S*', 'B', 'B,S*,C', 'B,S,L',\n",
       "       'B,S,V', 'B,S*,C,L', 'B,S*,C,Sa', 'B,S*,Sa', 'B,S,C,Sa',\n",
       "       'B,S*,V,L', 'B,C', 'B,S*,C,V', 'B,S,C,L,Sa'], dtype=object)"
      ]
     },
     "execution_count": 10,
     "metadata": {},
     "output_type": "execute_result"
    }
   ],
   "source": [
    "df['ingredients'].unique()"
   ]
  },
  {
   "cell_type": "code",
   "execution_count": 11,
   "id": "755580ae",
   "metadata": {
    "execution": {
     "iopub.execute_input": "2024-02-13T14:55:37.588689Z",
     "iopub.status.busy": "2024-02-13T14:55:37.588456Z",
     "iopub.status.idle": "2024-02-13T14:55:37.621136Z",
     "shell.execute_reply": "2024-02-13T14:55:37.620210Z"
    },
    "papermill": {
     "duration": 0.043874,
     "end_time": "2024-02-13T14:55:37.622945",
     "exception": false,
     "start_time": "2024-02-13T14:55:37.579071",
     "status": "completed"
    },
    "tags": []
   },
   "outputs": [],
   "source": [
    "import pandas as pd\n",
    "\n",
    "total_ingredients = ['B', 'S', 'S*', 'C', 'V', 'L', 'Sa']\n",
    "\n",
    "# Create binary columns for each ingredient\n",
    "for ingredient in total_ingredients:\n",
    "    df[ingredient.strip()] = df['ingredients'].apply(lambda x: 1 if isinstance(x, str) and ingredient.strip() in x.split(',') else 0)\n",
    "\n",
    "# Drop the original 'ingredients' column\n",
    "df.drop('ingredients', axis=1, inplace=True)"
   ]
  },
  {
   "cell_type": "code",
   "execution_count": 12,
   "id": "44b3551b",
   "metadata": {
    "execution": {
     "iopub.execute_input": "2024-02-13T14:55:37.640912Z",
     "iopub.status.busy": "2024-02-13T14:55:37.640676Z",
     "iopub.status.idle": "2024-02-13T14:55:37.657878Z",
     "shell.execute_reply": "2024-02-13T14:55:37.656903Z"
    },
    "papermill": {
     "duration": 0.02852,
     "end_time": "2024-02-13T14:55:37.659884",
     "exception": false,
     "start_time": "2024-02-13T14:55:37.631364",
     "status": "completed"
    },
    "tags": []
   },
   "outputs": [
    {
     "data": {
      "text/html": [
       "<div>\n",
       "<style scoped>\n",
       "    .dataframe tbody tr th:only-of-type {\n",
       "        vertical-align: middle;\n",
       "    }\n",
       "\n",
       "    .dataframe tbody tr th {\n",
       "        vertical-align: top;\n",
       "    }\n",
       "\n",
       "    .dataframe thead th {\n",
       "        text-align: right;\n",
       "    }\n",
       "</style>\n",
       "<table border=\"1\" class=\"dataframe\">\n",
       "  <thead>\n",
       "    <tr style=\"text-align: right;\">\n",
       "      <th></th>\n",
       "      <th>ref</th>\n",
       "      <th>company_manufacturer</th>\n",
       "      <th>company_location</th>\n",
       "      <th>review_date</th>\n",
       "      <th>country_of_bean_origin</th>\n",
       "      <th>specific_bean_origin_or_bar_name</th>\n",
       "      <th>cocoa_percent</th>\n",
       "      <th>most_memorable_characteristics</th>\n",
       "      <th>rating</th>\n",
       "      <th>ingredientsNum</th>\n",
       "      <th>B</th>\n",
       "      <th>S</th>\n",
       "      <th>S*</th>\n",
       "      <th>C</th>\n",
       "      <th>V</th>\n",
       "      <th>L</th>\n",
       "      <th>Sa</th>\n",
       "    </tr>\n",
       "  </thead>\n",
       "  <tbody>\n",
       "    <tr>\n",
       "      <th>0</th>\n",
       "      <td>2454</td>\n",
       "      <td>5150</td>\n",
       "      <td>U.S.A.</td>\n",
       "      <td>2019</td>\n",
       "      <td>Tanzania</td>\n",
       "      <td>Kokoa Kamili, batch 1</td>\n",
       "      <td>76.0</td>\n",
       "      <td>rich cocoa, fatty, bready</td>\n",
       "      <td>3.25</td>\n",
       "      <td>3.0</td>\n",
       "      <td>1</td>\n",
       "      <td>1</td>\n",
       "      <td>0</td>\n",
       "      <td>1</td>\n",
       "      <td>0</td>\n",
       "      <td>0</td>\n",
       "      <td>0</td>\n",
       "    </tr>\n",
       "    <tr>\n",
       "      <th>1</th>\n",
       "      <td>2458</td>\n",
       "      <td>5150</td>\n",
       "      <td>U.S.A.</td>\n",
       "      <td>2019</td>\n",
       "      <td>Dominican Republic</td>\n",
       "      <td>Zorzal, batch 1</td>\n",
       "      <td>76.0</td>\n",
       "      <td>cocoa, vegetal, savory</td>\n",
       "      <td>3.50</td>\n",
       "      <td>3.0</td>\n",
       "      <td>1</td>\n",
       "      <td>1</td>\n",
       "      <td>0</td>\n",
       "      <td>1</td>\n",
       "      <td>0</td>\n",
       "      <td>0</td>\n",
       "      <td>0</td>\n",
       "    </tr>\n",
       "    <tr>\n",
       "      <th>2</th>\n",
       "      <td>2454</td>\n",
       "      <td>5150</td>\n",
       "      <td>U.S.A.</td>\n",
       "      <td>2019</td>\n",
       "      <td>Madagascar</td>\n",
       "      <td>Bejofo Estate, batch 1</td>\n",
       "      <td>76.0</td>\n",
       "      <td>cocoa, blackberry, full body</td>\n",
       "      <td>3.75</td>\n",
       "      <td>3.0</td>\n",
       "      <td>1</td>\n",
       "      <td>1</td>\n",
       "      <td>0</td>\n",
       "      <td>1</td>\n",
       "      <td>0</td>\n",
       "      <td>0</td>\n",
       "      <td>0</td>\n",
       "    </tr>\n",
       "    <tr>\n",
       "      <th>3</th>\n",
       "      <td>2542</td>\n",
       "      <td>5150</td>\n",
       "      <td>U.S.A.</td>\n",
       "      <td>2021</td>\n",
       "      <td>Fiji</td>\n",
       "      <td>Matasawalevu, batch 1</td>\n",
       "      <td>68.0</td>\n",
       "      <td>chewy, off, rubbery</td>\n",
       "      <td>3.00</td>\n",
       "      <td>3.0</td>\n",
       "      <td>1</td>\n",
       "      <td>1</td>\n",
       "      <td>0</td>\n",
       "      <td>1</td>\n",
       "      <td>0</td>\n",
       "      <td>0</td>\n",
       "      <td>0</td>\n",
       "    </tr>\n",
       "    <tr>\n",
       "      <th>4</th>\n",
       "      <td>2546</td>\n",
       "      <td>5150</td>\n",
       "      <td>U.S.A.</td>\n",
       "      <td>2021</td>\n",
       "      <td>Venezuela</td>\n",
       "      <td>Sur del Lago, batch 1</td>\n",
       "      <td>72.0</td>\n",
       "      <td>fatty, earthy, moss, nutty,chalky</td>\n",
       "      <td>3.00</td>\n",
       "      <td>3.0</td>\n",
       "      <td>1</td>\n",
       "      <td>1</td>\n",
       "      <td>0</td>\n",
       "      <td>1</td>\n",
       "      <td>0</td>\n",
       "      <td>0</td>\n",
       "      <td>0</td>\n",
       "    </tr>\n",
       "  </tbody>\n",
       "</table>\n",
       "</div>"
      ],
      "text/plain": [
       "    ref company_manufacturer company_location  review_date  \\\n",
       "0  2454                 5150           U.S.A.         2019   \n",
       "1  2458                 5150           U.S.A.         2019   \n",
       "2  2454                 5150           U.S.A.         2019   \n",
       "3  2542                 5150           U.S.A.         2021   \n",
       "4  2546                 5150           U.S.A.         2021   \n",
       "\n",
       "  country_of_bean_origin specific_bean_origin_or_bar_name  cocoa_percent  \\\n",
       "0               Tanzania            Kokoa Kamili, batch 1           76.0   \n",
       "1     Dominican Republic                  Zorzal, batch 1           76.0   \n",
       "2             Madagascar           Bejofo Estate, batch 1           76.0   \n",
       "3                   Fiji            Matasawalevu, batch 1           68.0   \n",
       "4              Venezuela            Sur del Lago, batch 1           72.0   \n",
       "\n",
       "      most_memorable_characteristics  rating  ingredientsNum  B  S  S*  C  V  \\\n",
       "0          rich cocoa, fatty, bready    3.25             3.0  1  1   0  1  0   \n",
       "1             cocoa, vegetal, savory    3.50             3.0  1  1   0  1  0   \n",
       "2       cocoa, blackberry, full body    3.75             3.0  1  1   0  1  0   \n",
       "3                chewy, off, rubbery    3.00             3.0  1  1   0  1  0   \n",
       "4  fatty, earthy, moss, nutty,chalky    3.00             3.0  1  1   0  1  0   \n",
       "\n",
       "   L  Sa  \n",
       "0  0   0  \n",
       "1  0   0  \n",
       "2  0   0  \n",
       "3  0   0  \n",
       "4  0   0  "
      ]
     },
     "execution_count": 12,
     "metadata": {},
     "output_type": "execute_result"
    }
   ],
   "source": [
    "df.head()"
   ]
  },
  {
   "cell_type": "code",
   "execution_count": 13,
   "id": "272252d3",
   "metadata": {
    "execution": {
     "iopub.execute_input": "2024-02-13T14:55:37.679254Z",
     "iopub.status.busy": "2024-02-13T14:55:37.678526Z",
     "iopub.status.idle": "2024-02-13T14:55:37.684607Z",
     "shell.execute_reply": "2024-02-13T14:55:37.683763Z"
    },
    "papermill": {
     "duration": 0.017957,
     "end_time": "2024-02-13T14:55:37.686526",
     "exception": false,
     "start_time": "2024-02-13T14:55:37.668569",
     "status": "completed"
    },
    "tags": []
   },
   "outputs": [
    {
     "data": {
      "text/plain": [
       "array(['Kokoa Kamili, batch 1', 'Zorzal, batch 1',\n",
       "       'Bejofo Estate, batch 1', ..., 'APROCAFA, Acandi',\n",
       "       'Dry Aged, 30 yr Anniversary bar', 'Mountains of the Moon'],\n",
       "      dtype=object)"
      ]
     },
     "execution_count": 13,
     "metadata": {},
     "output_type": "execute_result"
    }
   ],
   "source": [
    "df['specific_bean_origin_or_bar_name'].unique()"
   ]
  },
  {
   "cell_type": "code",
   "execution_count": 14,
   "id": "8af75d7e",
   "metadata": {
    "execution": {
     "iopub.execute_input": "2024-02-13T14:55:37.706150Z",
     "iopub.status.busy": "2024-02-13T14:55:37.705657Z",
     "iopub.status.idle": "2024-02-13T14:55:38.027047Z",
     "shell.execute_reply": "2024-02-13T14:55:38.025894Z"
    },
    "papermill": {
     "duration": 0.333643,
     "end_time": "2024-02-13T14:55:38.029631",
     "exception": false,
     "start_time": "2024-02-13T14:55:37.695988",
     "status": "completed"
    },
    "tags": []
   },
   "outputs": [],
   "source": [
    "from sklearn.feature_extraction.text import TfidfVectorizer\n",
    "\n",
    "df['most_memorable_characteristics'] = df['most_memorable_characteristics'].str.lower()\n",
    "df['most_memorable_characteristics'] = df['most_memorable_characteristics'].str.replace('[^a-zA-Z\\s]', '')  # Remove non-alphabetic characters\n",
    "\n",
    "tfidf_vectorizer = TfidfVectorizer()\n",
    "tfidf_matrix = tfidf_vectorizer.fit_transform(df['most_memorable_characteristics'])\n",
    "tfidf_df = pd.DataFrame(tfidf_matrix.toarray(), columns=tfidf_vectorizer.get_feature_names_out())\n",
    "df = pd.concat([df, tfidf_df], axis=1)\n"
   ]
  },
  {
   "cell_type": "code",
   "execution_count": 15,
   "id": "e46fbff2",
   "metadata": {
    "execution": {
     "iopub.execute_input": "2024-02-13T14:55:38.053475Z",
     "iopub.status.busy": "2024-02-13T14:55:38.052615Z",
     "iopub.status.idle": "2024-02-13T14:55:38.062955Z",
     "shell.execute_reply": "2024-02-13T14:55:38.062166Z"
    },
    "papermill": {
     "duration": 0.023802,
     "end_time": "2024-02-13T14:55:38.065054",
     "exception": false,
     "start_time": "2024-02-13T14:55:38.041252",
     "status": "completed"
    },
    "tags": []
   },
   "outputs": [],
   "source": [
    "df=df.drop('most_memorable_characteristics',axis=1)"
   ]
  },
  {
   "cell_type": "code",
   "execution_count": 16,
   "id": "3710de9f",
   "metadata": {
    "execution": {
     "iopub.execute_input": "2024-02-13T14:55:38.086211Z",
     "iopub.status.busy": "2024-02-13T14:55:38.085931Z",
     "iopub.status.idle": "2024-02-13T14:55:38.116415Z",
     "shell.execute_reply": "2024-02-13T14:55:38.115394Z"
    },
    "papermill": {
     "duration": 0.043409,
     "end_time": "2024-02-13T14:55:38.118630",
     "exception": false,
     "start_time": "2024-02-13T14:55:38.075221",
     "status": "completed"
    },
    "tags": []
   },
   "outputs": [
    {
     "data": {
      "text/html": [
       "<div>\n",
       "<style scoped>\n",
       "    .dataframe tbody tr th:only-of-type {\n",
       "        vertical-align: middle;\n",
       "    }\n",
       "\n",
       "    .dataframe tbody tr th {\n",
       "        vertical-align: top;\n",
       "    }\n",
       "\n",
       "    .dataframe thead th {\n",
       "        text-align: right;\n",
       "    }\n",
       "</style>\n",
       "<table border=\"1\" class=\"dataframe\">\n",
       "  <thead>\n",
       "    <tr style=\"text-align: right;\">\n",
       "      <th></th>\n",
       "      <th>ref</th>\n",
       "      <th>company_manufacturer</th>\n",
       "      <th>company_location</th>\n",
       "      <th>review_date</th>\n",
       "      <th>country_of_bean_origin</th>\n",
       "      <th>specific_bean_origin_or_bar_name</th>\n",
       "      <th>cocoa_percent</th>\n",
       "      <th>rating</th>\n",
       "      <th>ingredientsNum</th>\n",
       "      <th>B</th>\n",
       "      <th>...</th>\n",
       "      <th>wine</th>\n",
       "      <th>winey</th>\n",
       "      <th>with</th>\n",
       "      <th>wood</th>\n",
       "      <th>woodsy</th>\n",
       "      <th>woody</th>\n",
       "      <th>wtf</th>\n",
       "      <th>xl</th>\n",
       "      <th>yellow</th>\n",
       "      <th>yogurt</th>\n",
       "    </tr>\n",
       "  </thead>\n",
       "  <tbody>\n",
       "    <tr>\n",
       "      <th>0</th>\n",
       "      <td>2454</td>\n",
       "      <td>5150</td>\n",
       "      <td>U.S.A.</td>\n",
       "      <td>2019</td>\n",
       "      <td>Tanzania</td>\n",
       "      <td>Kokoa Kamili, batch 1</td>\n",
       "      <td>76.0</td>\n",
       "      <td>3.25</td>\n",
       "      <td>3.0</td>\n",
       "      <td>1</td>\n",
       "      <td>...</td>\n",
       "      <td>0.0</td>\n",
       "      <td>0.0</td>\n",
       "      <td>0.0</td>\n",
       "      <td>0.0</td>\n",
       "      <td>0.0</td>\n",
       "      <td>0.0</td>\n",
       "      <td>0.0</td>\n",
       "      <td>0.0</td>\n",
       "      <td>0.0</td>\n",
       "      <td>0.0</td>\n",
       "    </tr>\n",
       "    <tr>\n",
       "      <th>1</th>\n",
       "      <td>2458</td>\n",
       "      <td>5150</td>\n",
       "      <td>U.S.A.</td>\n",
       "      <td>2019</td>\n",
       "      <td>Dominican Republic</td>\n",
       "      <td>Zorzal, batch 1</td>\n",
       "      <td>76.0</td>\n",
       "      <td>3.50</td>\n",
       "      <td>3.0</td>\n",
       "      <td>1</td>\n",
       "      <td>...</td>\n",
       "      <td>0.0</td>\n",
       "      <td>0.0</td>\n",
       "      <td>0.0</td>\n",
       "      <td>0.0</td>\n",
       "      <td>0.0</td>\n",
       "      <td>0.0</td>\n",
       "      <td>0.0</td>\n",
       "      <td>0.0</td>\n",
       "      <td>0.0</td>\n",
       "      <td>0.0</td>\n",
       "    </tr>\n",
       "    <tr>\n",
       "      <th>2</th>\n",
       "      <td>2454</td>\n",
       "      <td>5150</td>\n",
       "      <td>U.S.A.</td>\n",
       "      <td>2019</td>\n",
       "      <td>Madagascar</td>\n",
       "      <td>Bejofo Estate, batch 1</td>\n",
       "      <td>76.0</td>\n",
       "      <td>3.75</td>\n",
       "      <td>3.0</td>\n",
       "      <td>1</td>\n",
       "      <td>...</td>\n",
       "      <td>0.0</td>\n",
       "      <td>0.0</td>\n",
       "      <td>0.0</td>\n",
       "      <td>0.0</td>\n",
       "      <td>0.0</td>\n",
       "      <td>0.0</td>\n",
       "      <td>0.0</td>\n",
       "      <td>0.0</td>\n",
       "      <td>0.0</td>\n",
       "      <td>0.0</td>\n",
       "    </tr>\n",
       "    <tr>\n",
       "      <th>3</th>\n",
       "      <td>2542</td>\n",
       "      <td>5150</td>\n",
       "      <td>U.S.A.</td>\n",
       "      <td>2021</td>\n",
       "      <td>Fiji</td>\n",
       "      <td>Matasawalevu, batch 1</td>\n",
       "      <td>68.0</td>\n",
       "      <td>3.00</td>\n",
       "      <td>3.0</td>\n",
       "      <td>1</td>\n",
       "      <td>...</td>\n",
       "      <td>0.0</td>\n",
       "      <td>0.0</td>\n",
       "      <td>0.0</td>\n",
       "      <td>0.0</td>\n",
       "      <td>0.0</td>\n",
       "      <td>0.0</td>\n",
       "      <td>0.0</td>\n",
       "      <td>0.0</td>\n",
       "      <td>0.0</td>\n",
       "      <td>0.0</td>\n",
       "    </tr>\n",
       "    <tr>\n",
       "      <th>4</th>\n",
       "      <td>2546</td>\n",
       "      <td>5150</td>\n",
       "      <td>U.S.A.</td>\n",
       "      <td>2021</td>\n",
       "      <td>Venezuela</td>\n",
       "      <td>Sur del Lago, batch 1</td>\n",
       "      <td>72.0</td>\n",
       "      <td>3.00</td>\n",
       "      <td>3.0</td>\n",
       "      <td>1</td>\n",
       "      <td>...</td>\n",
       "      <td>0.0</td>\n",
       "      <td>0.0</td>\n",
       "      <td>0.0</td>\n",
       "      <td>0.0</td>\n",
       "      <td>0.0</td>\n",
       "      <td>0.0</td>\n",
       "      <td>0.0</td>\n",
       "      <td>0.0</td>\n",
       "      <td>0.0</td>\n",
       "      <td>0.0</td>\n",
       "    </tr>\n",
       "  </tbody>\n",
       "</table>\n",
       "<p>5 rows × 561 columns</p>\n",
       "</div>"
      ],
      "text/plain": [
       "    ref company_manufacturer company_location  review_date  \\\n",
       "0  2454                 5150           U.S.A.         2019   \n",
       "1  2458                 5150           U.S.A.         2019   \n",
       "2  2454                 5150           U.S.A.         2019   \n",
       "3  2542                 5150           U.S.A.         2021   \n",
       "4  2546                 5150           U.S.A.         2021   \n",
       "\n",
       "  country_of_bean_origin specific_bean_origin_or_bar_name  cocoa_percent  \\\n",
       "0               Tanzania            Kokoa Kamili, batch 1           76.0   \n",
       "1     Dominican Republic                  Zorzal, batch 1           76.0   \n",
       "2             Madagascar           Bejofo Estate, batch 1           76.0   \n",
       "3                   Fiji            Matasawalevu, batch 1           68.0   \n",
       "4              Venezuela            Sur del Lago, batch 1           72.0   \n",
       "\n",
       "   rating  ingredientsNum  B  ...  wine  winey  with  wood  woodsy  woody  \\\n",
       "0    3.25             3.0  1  ...   0.0    0.0   0.0   0.0     0.0    0.0   \n",
       "1    3.50             3.0  1  ...   0.0    0.0   0.0   0.0     0.0    0.0   \n",
       "2    3.75             3.0  1  ...   0.0    0.0   0.0   0.0     0.0    0.0   \n",
       "3    3.00             3.0  1  ...   0.0    0.0   0.0   0.0     0.0    0.0   \n",
       "4    3.00             3.0  1  ...   0.0    0.0   0.0   0.0     0.0    0.0   \n",
       "\n",
       "   wtf   xl  yellow  yogurt  \n",
       "0  0.0  0.0     0.0     0.0  \n",
       "1  0.0  0.0     0.0     0.0  \n",
       "2  0.0  0.0     0.0     0.0  \n",
       "3  0.0  0.0     0.0     0.0  \n",
       "4  0.0  0.0     0.0     0.0  \n",
       "\n",
       "[5 rows x 561 columns]"
      ]
     },
     "execution_count": 16,
     "metadata": {},
     "output_type": "execute_result"
    }
   ],
   "source": [
    "df.head()"
   ]
  },
  {
   "cell_type": "code",
   "execution_count": 17,
   "id": "05717e5a",
   "metadata": {
    "execution": {
     "iopub.execute_input": "2024-02-13T14:55:38.141022Z",
     "iopub.status.busy": "2024-02-13T14:55:38.139997Z",
     "iopub.status.idle": "2024-02-13T14:55:38.144186Z",
     "shell.execute_reply": "2024-02-13T14:55:38.143401Z"
    },
    "papermill": {
     "duration": 0.017383,
     "end_time": "2024-02-13T14:55:38.146287",
     "exception": false,
     "start_time": "2024-02-13T14:55:38.128904",
     "status": "completed"
    },
    "tags": []
   },
   "outputs": [],
   "source": [
    "# df_dummy=pd.get_dummies(df['specific_bean_origin_or_bar_name'])"
   ]
  },
  {
   "cell_type": "code",
   "execution_count": 18,
   "id": "f674048f",
   "metadata": {
    "execution": {
     "iopub.execute_input": "2024-02-13T14:55:38.168584Z",
     "iopub.status.busy": "2024-02-13T14:55:38.167834Z",
     "iopub.status.idle": "2024-02-13T14:55:38.174610Z",
     "shell.execute_reply": "2024-02-13T14:55:38.173712Z"
    },
    "papermill": {
     "duration": 0.020131,
     "end_time": "2024-02-13T14:55:38.176818",
     "exception": false,
     "start_time": "2024-02-13T14:55:38.156687",
     "status": "completed"
    },
    "tags": []
   },
   "outputs": [
    {
     "data": {
      "text/plain": [
       "array(['Kokoa Kamili, batch 1', 'Zorzal, batch 1',\n",
       "       'Bejofo Estate, batch 1', ..., 'APROCAFA, Acandi',\n",
       "       'Dry Aged, 30 yr Anniversary bar', 'Mountains of the Moon'],\n",
       "      dtype=object)"
      ]
     },
     "execution_count": 18,
     "metadata": {},
     "output_type": "execute_result"
    }
   ],
   "source": [
    "df['specific_bean_origin_or_bar_name'].unique()"
   ]
  },
  {
   "cell_type": "code",
   "execution_count": 19,
   "id": "30938808",
   "metadata": {
    "execution": {
     "iopub.execute_input": "2024-02-13T14:55:38.198597Z",
     "iopub.status.busy": "2024-02-13T14:55:38.198262Z",
     "iopub.status.idle": "2024-02-13T14:55:38.328286Z",
     "shell.execute_reply": "2024-02-13T14:55:38.327380Z"
    },
    "papermill": {
     "duration": 0.143555,
     "end_time": "2024-02-13T14:55:38.330739",
     "exception": false,
     "start_time": "2024-02-13T14:55:38.187184",
     "status": "completed"
    },
    "tags": []
   },
   "outputs": [],
   "source": [
    "import pandas as pd\n",
    "from sklearn.feature_extraction.text import CountVectorizer\n",
    "\n",
    "df['specific_bean_origin_or_bar_name'] = df['specific_bean_origin_or_bar_name'].str.lower()\n",
    "df['specific_bean_origin_or_bar_name'] = df['specific_bean_origin_or_bar_name'].str.replace('[^a-zA-Z\\s]', '')  # Remove non-alphabetic characters\n",
    "\n",
    "tokenized_text = df['specific_bean_origin_or_bar_name'].apply(lambda x: x.split())\n",
    "\n",
    "vectorizer = CountVectorizer()\n",
    "bow_matrix = vectorizer.fit_transform(df['specific_bean_origin_or_bar_name'])\n",
    "\n",
    "bow_df = pd.DataFrame(bow_matrix.toarray(), columns=vectorizer.get_feature_names_out())\n",
    "\n",
    "df = pd.concat([df, bow_df], axis=1)\n"
   ]
  },
  {
   "cell_type": "code",
   "execution_count": 20,
   "id": "4ad7d873",
   "metadata": {
    "execution": {
     "iopub.execute_input": "2024-02-13T14:55:38.358421Z",
     "iopub.status.busy": "2024-02-13T14:55:38.358057Z",
     "iopub.status.idle": "2024-02-13T14:55:38.388686Z",
     "shell.execute_reply": "2024-02-13T14:55:38.387140Z"
    },
    "papermill": {
     "duration": 0.050151,
     "end_time": "2024-02-13T14:55:38.391310",
     "exception": false,
     "start_time": "2024-02-13T14:55:38.341159",
     "status": "completed"
    },
    "tags": []
   },
   "outputs": [],
   "source": [
    "df=df.drop('specific_bean_origin_or_bar_name',axis=1)"
   ]
  },
  {
   "cell_type": "code",
   "execution_count": 21,
   "id": "ebbb6cc6",
   "metadata": {
    "execution": {
     "iopub.execute_input": "2024-02-13T14:55:38.423612Z",
     "iopub.status.busy": "2024-02-13T14:55:38.423131Z",
     "iopub.status.idle": "2024-02-13T14:55:38.521211Z",
     "shell.execute_reply": "2024-02-13T14:55:38.520146Z"
    },
    "papermill": {
     "duration": 0.115638,
     "end_time": "2024-02-13T14:55:38.523176",
     "exception": false,
     "start_time": "2024-02-13T14:55:38.407538",
     "status": "completed"
    },
    "tags": []
   },
   "outputs": [
    {
     "name": "stdout",
     "output_type": "stream",
     "text": [
      "<class 'pandas.core.frame.DataFrame'>\n",
      "RangeIndex: 2530 entries, 0 to 2529\n",
      "Columns: 2212 entries, ref to zulia\n",
      "dtypes: float64(548), int64(1661), object(3)\n",
      "memory usage: 42.7+ MB\n"
     ]
    }
   ],
   "source": [
    "df.info()"
   ]
  },
  {
   "cell_type": "code",
   "execution_count": 22,
   "id": "a7d81ee5",
   "metadata": {
    "execution": {
     "iopub.execute_input": "2024-02-13T14:55:38.545077Z",
     "iopub.status.busy": "2024-02-13T14:55:38.544742Z",
     "iopub.status.idle": "2024-02-13T14:55:38.631353Z",
     "shell.execute_reply": "2024-02-13T14:55:38.630531Z"
    },
    "papermill": {
     "duration": 0.099866,
     "end_time": "2024-02-13T14:55:38.633929",
     "exception": false,
     "start_time": "2024-02-13T14:55:38.534063",
     "status": "completed"
    },
    "tags": []
   },
   "outputs": [],
   "source": [
    "categorical_cols = ['company_manufacturer', 'company_location', 'country_of_bean_origin']\n",
    "df = pd.get_dummies(df, columns=categorical_cols)\n",
    "df = df.select_dtypes(include=['number'])"
   ]
  },
  {
   "cell_type": "code",
   "execution_count": 23,
   "id": "0f0f4521",
   "metadata": {
    "execution": {
     "iopub.execute_input": "2024-02-13T14:55:38.656678Z",
     "iopub.status.busy": "2024-02-13T14:55:38.656314Z",
     "iopub.status.idle": "2024-02-13T14:55:38.671907Z",
     "shell.execute_reply": "2024-02-13T14:55:38.671168Z"
    },
    "papermill": {
     "duration": 0.029194,
     "end_time": "2024-02-13T14:55:38.673855",
     "exception": false,
     "start_time": "2024-02-13T14:55:38.644661",
     "status": "completed"
    },
    "tags": []
   },
   "outputs": [],
   "source": [
    "duplicate_columns = df.columns[df.columns.duplicated()]\n",
    "df = df.loc[:, ~df.columns.duplicated()]\n"
   ]
  },
  {
   "cell_type": "code",
   "execution_count": 24,
   "id": "371ec57d",
   "metadata": {
    "execution": {
     "iopub.execute_input": "2024-02-13T14:55:38.700426Z",
     "iopub.status.busy": "2024-02-13T14:55:38.700102Z",
     "iopub.status.idle": "2024-02-13T14:55:38.716677Z",
     "shell.execute_reply": "2024-02-13T14:55:38.715781Z"
    },
    "papermill": {
     "duration": 0.033372,
     "end_time": "2024-02-13T14:55:38.719034",
     "exception": false,
     "start_time": "2024-02-13T14:55:38.685662",
     "status": "completed"
    },
    "tags": []
   },
   "outputs": [],
   "source": [
    "X=df.drop('rating',axis=1)\n",
    "y=df['rating']"
   ]
  },
  {
   "cell_type": "code",
   "execution_count": 25,
   "id": "54abcd49",
   "metadata": {
    "execution": {
     "iopub.execute_input": "2024-02-13T14:55:38.748080Z",
     "iopub.status.busy": "2024-02-13T14:55:38.747785Z",
     "iopub.status.idle": "2024-02-13T14:55:38.767083Z",
     "shell.execute_reply": "2024-02-13T14:55:38.766212Z"
    },
    "papermill": {
     "duration": 0.03611,
     "end_time": "2024-02-13T14:55:38.769130",
     "exception": false,
     "start_time": "2024-02-13T14:55:38.733020",
     "status": "completed"
    },
    "tags": []
   },
   "outputs": [
    {
     "data": {
      "text/html": [
       "<div>\n",
       "<style scoped>\n",
       "    .dataframe tbody tr th:only-of-type {\n",
       "        vertical-align: middle;\n",
       "    }\n",
       "\n",
       "    .dataframe tbody tr th {\n",
       "        vertical-align: top;\n",
       "    }\n",
       "\n",
       "    .dataframe thead th {\n",
       "        text-align: right;\n",
       "    }\n",
       "</style>\n",
       "<table border=\"1\" class=\"dataframe\">\n",
       "  <thead>\n",
       "    <tr style=\"text-align: right;\">\n",
       "      <th></th>\n",
       "      <th>ref</th>\n",
       "      <th>review_date</th>\n",
       "      <th>cocoa_percent</th>\n",
       "      <th>rating</th>\n",
       "      <th>ingredientsNum</th>\n",
       "      <th>B</th>\n",
       "      <th>S</th>\n",
       "      <th>S*</th>\n",
       "      <th>C</th>\n",
       "      <th>V</th>\n",
       "      <th>...</th>\n",
       "      <th>xoconuzco</th>\n",
       "      <th>xocunusco</th>\n",
       "      <th>yacao</th>\n",
       "      <th>yogyakarta</th>\n",
       "      <th>your</th>\n",
       "      <th>yr</th>\n",
       "      <th>yum</th>\n",
       "      <th>zarumilla</th>\n",
       "      <th>zorzal</th>\n",
       "      <th>zulia</th>\n",
       "    </tr>\n",
       "  </thead>\n",
       "  <tbody>\n",
       "    <tr>\n",
       "      <th>0</th>\n",
       "      <td>2454</td>\n",
       "      <td>2019</td>\n",
       "      <td>76.0</td>\n",
       "      <td>3.25</td>\n",
       "      <td>3.0</td>\n",
       "      <td>1</td>\n",
       "      <td>1</td>\n",
       "      <td>0</td>\n",
       "      <td>1</td>\n",
       "      <td>0</td>\n",
       "      <td>...</td>\n",
       "      <td>0</td>\n",
       "      <td>0</td>\n",
       "      <td>0</td>\n",
       "      <td>0</td>\n",
       "      <td>0</td>\n",
       "      <td>0</td>\n",
       "      <td>0</td>\n",
       "      <td>0</td>\n",
       "      <td>0</td>\n",
       "      <td>0</td>\n",
       "    </tr>\n",
       "    <tr>\n",
       "      <th>1</th>\n",
       "      <td>2458</td>\n",
       "      <td>2019</td>\n",
       "      <td>76.0</td>\n",
       "      <td>3.50</td>\n",
       "      <td>3.0</td>\n",
       "      <td>1</td>\n",
       "      <td>1</td>\n",
       "      <td>0</td>\n",
       "      <td>1</td>\n",
       "      <td>0</td>\n",
       "      <td>...</td>\n",
       "      <td>0</td>\n",
       "      <td>0</td>\n",
       "      <td>0</td>\n",
       "      <td>0</td>\n",
       "      <td>0</td>\n",
       "      <td>0</td>\n",
       "      <td>0</td>\n",
       "      <td>0</td>\n",
       "      <td>1</td>\n",
       "      <td>0</td>\n",
       "    </tr>\n",
       "    <tr>\n",
       "      <th>2</th>\n",
       "      <td>2454</td>\n",
       "      <td>2019</td>\n",
       "      <td>76.0</td>\n",
       "      <td>3.75</td>\n",
       "      <td>3.0</td>\n",
       "      <td>1</td>\n",
       "      <td>1</td>\n",
       "      <td>0</td>\n",
       "      <td>1</td>\n",
       "      <td>0</td>\n",
       "      <td>...</td>\n",
       "      <td>0</td>\n",
       "      <td>0</td>\n",
       "      <td>0</td>\n",
       "      <td>0</td>\n",
       "      <td>0</td>\n",
       "      <td>0</td>\n",
       "      <td>0</td>\n",
       "      <td>0</td>\n",
       "      <td>0</td>\n",
       "      <td>0</td>\n",
       "    </tr>\n",
       "    <tr>\n",
       "      <th>3</th>\n",
       "      <td>2542</td>\n",
       "      <td>2021</td>\n",
       "      <td>68.0</td>\n",
       "      <td>3.00</td>\n",
       "      <td>3.0</td>\n",
       "      <td>1</td>\n",
       "      <td>1</td>\n",
       "      <td>0</td>\n",
       "      <td>1</td>\n",
       "      <td>0</td>\n",
       "      <td>...</td>\n",
       "      <td>0</td>\n",
       "      <td>0</td>\n",
       "      <td>0</td>\n",
       "      <td>0</td>\n",
       "      <td>0</td>\n",
       "      <td>0</td>\n",
       "      <td>0</td>\n",
       "      <td>0</td>\n",
       "      <td>0</td>\n",
       "      <td>0</td>\n",
       "    </tr>\n",
       "    <tr>\n",
       "      <th>4</th>\n",
       "      <td>2546</td>\n",
       "      <td>2021</td>\n",
       "      <td>72.0</td>\n",
       "      <td>3.00</td>\n",
       "      <td>3.0</td>\n",
       "      <td>1</td>\n",
       "      <td>1</td>\n",
       "      <td>0</td>\n",
       "      <td>1</td>\n",
       "      <td>0</td>\n",
       "      <td>...</td>\n",
       "      <td>0</td>\n",
       "      <td>0</td>\n",
       "      <td>0</td>\n",
       "      <td>0</td>\n",
       "      <td>0</td>\n",
       "      <td>0</td>\n",
       "      <td>0</td>\n",
       "      <td>0</td>\n",
       "      <td>0</td>\n",
       "      <td>0</td>\n",
       "    </tr>\n",
       "  </tbody>\n",
       "</table>\n",
       "<p>5 rows × 2158 columns</p>\n",
       "</div>"
      ],
      "text/plain": [
       "    ref  review_date  cocoa_percent  rating  ingredientsNum  B  S  S*  C  V  \\\n",
       "0  2454         2019           76.0    3.25             3.0  1  1   0  1  0   \n",
       "1  2458         2019           76.0    3.50             3.0  1  1   0  1  0   \n",
       "2  2454         2019           76.0    3.75             3.0  1  1   0  1  0   \n",
       "3  2542         2021           68.0    3.00             3.0  1  1   0  1  0   \n",
       "4  2546         2021           72.0    3.00             3.0  1  1   0  1  0   \n",
       "\n",
       "   ...  xoconuzco  xocunusco  yacao  yogyakarta  your  yr  yum  zarumilla  \\\n",
       "0  ...          0          0      0           0     0   0    0          0   \n",
       "1  ...          0          0      0           0     0   0    0          0   \n",
       "2  ...          0          0      0           0     0   0    0          0   \n",
       "3  ...          0          0      0           0     0   0    0          0   \n",
       "4  ...          0          0      0           0     0   0    0          0   \n",
       "\n",
       "   zorzal  zulia  \n",
       "0       0      0  \n",
       "1       1      0  \n",
       "2       0      0  \n",
       "3       0      0  \n",
       "4       0      0  \n",
       "\n",
       "[5 rows x 2158 columns]"
      ]
     },
     "execution_count": 25,
     "metadata": {},
     "output_type": "execute_result"
    }
   ],
   "source": [
    "df.head()"
   ]
  },
  {
   "cell_type": "markdown",
   "id": "94ee34a3",
   "metadata": {
    "papermill": {
     "duration": 0.009497,
     "end_time": "2024-02-13T14:55:38.788576",
     "exception": false,
     "start_time": "2024-02-13T14:55:38.779079",
     "status": "completed"
    },
    "tags": []
   },
   "source": [
    "## Modeling"
   ]
  },
  {
   "cell_type": "code",
   "execution_count": 26,
   "id": "d6b55b31",
   "metadata": {
    "execution": {
     "iopub.execute_input": "2024-02-13T14:55:38.809458Z",
     "iopub.status.busy": "2024-02-13T14:55:38.809120Z",
     "iopub.status.idle": "2024-02-13T14:55:52.239739Z",
     "shell.execute_reply": "2024-02-13T14:55:52.238794Z"
    },
    "papermill": {
     "duration": 13.444213,
     "end_time": "2024-02-13T14:55:52.242328",
     "exception": false,
     "start_time": "2024-02-13T14:55:38.798115",
     "status": "completed"
    },
    "tags": []
   },
   "outputs": [
    {
     "name": "stdout",
     "output_type": "stream",
     "text": [
      "Fold 1/5\n",
      "RMSE for fold 1: 0.3624076599657789\n",
      "Fold 2/5\n",
      "RMSE for fold 2: 0.37511821767893117\n",
      "Fold 3/5\n",
      "RMSE for fold 3: 0.34365715194810337\n",
      "Fold 4/5\n",
      "RMSE for fold 4: 0.35100210575105073\n",
      "Fold 5/5\n",
      "RMSE for fold 5: 0.3597907235585486\n",
      "\n",
      "Mean RMSE across all folds: 0.3583951717804825\n"
     ]
    }
   ],
   "source": [
    "from sklearn.model_selection import KFold\n",
    "from sklearn.metrics import mean_squared_error\n",
    "import lightgbm as lgb\n",
    "from sklearn.model_selection import KFold\n",
    "from sklearn.metrics import mean_squared_error\n",
    "\n",
    "\n",
    "features=X\n",
    "target=y\n",
    "\n",
    "\n",
    "\n",
    "\n",
    "params = {\n",
    "    'boosting_type': 'gbdt',\n",
    "    'objective': 'regression',\n",
    "    'metric': 'rmse', \n",
    "    'num_leaves': 31,\n",
    "    'learning_rate': 0.05,\n",
    "    'feature_fraction': 0.9,\n",
    "    'bagging_fraction': 0.8,\n",
    "    'bagging_freq': 5,\n",
    "    'verbose': 0\n",
    "}\n",
    "\n",
    "n_splits = 5\n",
    "kf = KFold(n_splits=n_splits, shuffle=True, random_state=42)\n",
    "\n",
    "rmse_scores = []\n",
    "\n",
    "for fold, (train_idx, test_idx) in enumerate(kf.split(features)):\n",
    "    print(f\"Fold {fold+1}/{n_splits}\")\n",
    "    \n",
    "    X_train, X_test = features.iloc[train_idx], features.iloc[test_idx]\n",
    "    y_train, y_test = target.iloc[train_idx], target.iloc[test_idx]\n",
    "    \n",
    "    lgb_train = lgb.Dataset(X_train, y_train)\n",
    "    lgb_test = lgb.Dataset(X_test, y_test, reference=lgb_train)\n",
    "    \n",
    "    num_round = 1000\n",
    "    bst = lgb.train(params, lgb_train, num_round, valid_sets=[lgb_train, lgb_test])\n",
    "    \n",
    "    y_pred = bst.predict(X_test, num_iteration=bst.best_iteration)\n",
    "    \n",
    "    fold_rmse = mean_squared_error(y_test, y_pred) ** 0.5\n",
    "    rmse_scores.append(fold_rmse)\n",
    "    print(f\"RMSE for fold {fold+1}: {fold_rmse}\")\n",
    "\n",
    "mean_rmse = sum(rmse_scores) / len(rmse_scores)\n",
    "print(f\"\\nMean RMSE across all folds: {mean_rmse}\")\n"
   ]
  },
  {
   "cell_type": "code",
   "execution_count": null,
   "id": "67986fd5",
   "metadata": {
    "papermill": {
     "duration": 0.011248,
     "end_time": "2024-02-13T14:55:52.267015",
     "exception": false,
     "start_time": "2024-02-13T14:55:52.255767",
     "status": "completed"
    },
    "tags": []
   },
   "outputs": [],
   "source": []
  }
 ],
 "metadata": {
  "kaggle": {
   "accelerator": "nvidiaTeslaT4",
   "dataSources": [
    {
     "datasetId": 4430106,
     "sourceId": 7608462,
     "sourceType": "datasetVersion"
    }
   ],
   "dockerImageVersionId": 30646,
   "isGpuEnabled": true,
   "isInternetEnabled": true,
   "language": "python",
   "sourceType": "notebook"
  },
  "kernelspec": {
   "display_name": "Python 3",
   "language": "python",
   "name": "python3"
  },
  "language_info": {
   "codemirror_mode": {
    "name": "ipython",
    "version": 3
   },
   "file_extension": ".py",
   "mimetype": "text/x-python",
   "name": "python",
   "nbconvert_exporter": "python",
   "pygments_lexer": "ipython3",
   "version": "3.10.13"
  },
  "papermill": {
   "default_parameters": {},
   "duration": 21.122027,
   "end_time": "2024-02-13T14:55:52.998200",
   "environment_variables": {},
   "exception": null,
   "input_path": "__notebook__.ipynb",
   "output_path": "__notebook__.ipynb",
   "parameters": {},
   "start_time": "2024-02-13T14:55:31.876173",
   "version": "2.5.0"
  }
 },
 "nbformat": 4,
 "nbformat_minor": 5
}
